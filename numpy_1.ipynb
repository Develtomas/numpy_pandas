{
  "cells": [
    {
      "cell_type": "markdown",
      "source": [
        "####Task1"
      ],
      "metadata": {
        "id": "BxzpFqVybkkX"
      }
    },
    {
      "cell_type": "code",
      "source": [
        "import numpy as np\n",
        "\n",
        "np.arange(9, -1, -1)\n"
      ],
      "metadata": {
        "colab": {
          "base_uri": "https://localhost:8080/"
        },
        "id": "KtP9B1nDbrUu",
        "outputId": "583363bb-dc09-49dd-c61a-86d008a8327b"
      },
      "execution_count": null,
      "outputs": [
        {
          "output_type": "execute_result",
          "data": {
            "text/plain": [
              "array([9, 8, 7, 6, 5, 4, 3, 2, 1, 0])"
            ]
          },
          "metadata": {},
          "execution_count": 7
        }
      ]
    },
    {
      "cell_type": "markdown",
      "source": [
        "####Task2"
      ],
      "metadata": {
        "id": "7CcMTwjIeIlC"
      }
    },
    {
      "cell_type": "code",
      "source": [
        "matr = np.diag(np.arange(9, -1, -1), k=0)\n",
        "print(sum(np.diagonal(matr)))"
      ],
      "metadata": {
        "colab": {
          "base_uri": "https://localhost:8080/"
        },
        "id": "nGNFg2uSeLKY",
        "outputId": "28fed287-af5d-4dc4-ea2c-b2385b069ad0"
      },
      "execution_count": null,
      "outputs": [
        {
          "output_type": "stream",
          "name": "stdout",
          "text": [
            "45\n"
          ]
        }
      ]
    },
    {
      "cell_type": "markdown",
      "source": [
        "####Task3"
      ],
      "metadata": {
        "id": "_yIf6JEHgL3N"
      }
    },
    {
      "cell_type": "code",
      "source": [
        "left = np.array( [ [4, 2, 1],[1, 3, 0],[0, 5, 4] ])\n",
        "right = np.array([4, 12, -3])\n",
        "np.linalg.solve(left, right)"
      ],
      "metadata": {
        "colab": {
          "base_uri": "https://localhost:8080/"
        },
        "id": "M4ucHaZngKc2",
        "outputId": "baddd215-8091-40b7-c0e5-e06640f93c83"
      },
      "execution_count": null,
      "outputs": [
        {
          "output_type": "execute_result",
          "data": {
            "text/plain": [
              "array([ 0.46666667,  3.84444444, -5.55555556])"
            ]
          },
          "metadata": {},
          "execution_count": 19
        }
      ]
    },
    {
      "cell_type": "markdown",
      "source": [
        "####Task4\n"
      ],
      "metadata": {
        "id": "wLOCe2QMjJui"
      }
    },
    {
      "cell_type": "code",
      "source": [
        "def cosine( a, b, aLength ):\n",
        "    \"\"\"cos between a,b vectors\"\"\"\n",
        "    # b_length\n",
        "    bLength = np.linalg.norm( b )\n",
        "    return np.dot( a, b ) / ( aLength * bLength )\n",
        "\n",
        "users_stats = np.array(\n",
        "    [\n",
        "        [2, 1, 0, 0, 0, 0],\n",
        "        [1, 1, 2, 1, 0, 0],\n",
        "        [2, 0, 1, 0, 0, 0],\n",
        "        [1, 1, 2, 1, 0, 1],\n",
        "        [0, 0, 1, 2, 0, 0],\n",
        "        [0, 0, 0, 0, 0, 5],\n",
        "        [1, 0, 0, 0, 0, 0],\n",
        "        [0, 1, 1, 0, 0, 0],\n",
        "        [0, 0, 0, 1, 1, 3],\n",
        "        [1, 0, 0, 2, 1, 4]\n",
        "    ], \n",
        ")\n",
        "\n",
        "user = np.array([0, 1, 2, 0, 0, 0])\n",
        "user_vec_length = np.linalg.norm(user)\n",
        "proxim = 0\n",
        "max_proxim_user = None\n",
        "\n",
        "for i in enumerate(users_stats):\n",
        "  i_prox = cosine(user, i[1], user_vec_length)\n",
        "  if i_prox > proxim:\n",
        "    proxim = i_prox\n",
        "    max_proxim_user = i[0]\n",
        "\n",
        "print(f'The current user is most similar to user #{max_proxim_user}, proximity: {proxim}')\n"
      ],
      "metadata": {
        "colab": {
          "base_uri": "https://localhost:8080/"
        },
        "id": "QDtnlSd6jMo4",
        "outputId": "1cb0d4f1-3a23-4028-b364-e86a3a8aca23"
      },
      "execution_count": null,
      "outputs": [
        {
          "output_type": "stream",
          "name": "stdout",
          "text": [
            "The current user is most similar to user #7, proximity: 0.9486832980505138\n"
          ]
        }
      ]
    }
  ],
  "metadata": {
    "kernelspec": {
      "display_name": "Python 3",
      "language": "python",
      "name": "python3"
    },
    "language_info": {
      "codemirror_mode": {
        "name": "ipython",
        "version": 3
      },
      "file_extension": ".py",
      "mimetype": "text/x-python",
      "name": "python",
      "nbconvert_exporter": "python",
      "pygments_lexer": "ipython3",
      "version": "3.7.0"
    },
    "colab": {
      "provenance": [],
      "collapsed_sections": [
        "BxzpFqVybkkX",
        "7CcMTwjIeIlC",
        "wLOCe2QMjJui"
      ]
    }
  },
  "nbformat": 4,
  "nbformat_minor": 0
}